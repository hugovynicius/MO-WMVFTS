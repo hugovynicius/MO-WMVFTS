{
 "cells": [
  {
   "cell_type": "code",
   "execution_count": 1,
   "id": "ideal-satisfaction",
   "metadata": {},
   "outputs": [],
   "source": [
    "import sys\n",
    "sys.path.append(\"/home/hugo/projetos-doutorado/efts_multi_step/\")\n",
    "import numpy as np\n",
    "import pandas as pd\n",
    "from src.efts.models.mimo.onestep.SerialMimoEFTS import SerialMimoEFTS\n",
    "from src.efts.util.DataSetUtil import DataSetUtil\n",
    "from src.efts.util.MetricsUtil import MetricsUtil\n",
    "from src.efts.util.StatisticsUtil import StatisticsUtil\n",
    "\n",
    "from pyFTS.partitioners.FCM import FCMPartitioner\n",
    "from pyFTS.partitioners.CMeans import CMeansPartitioner\n",
    "\n",
    "\n",
    "\n",
    "np.seterr(divide='ignore', invalid='ignore')\n",
    "import warnings\n",
    "warnings.filterwarnings(\"ignore\")"
   ]
  },
  {
   "cell_type": "markdown",
   "id": "professional-highway",
   "metadata": {},
   "source": [
    "## Auxiliar Funcions "
   ]
  },
  {
   "cell_type": "code",
   "execution_count": 2,
   "id": "stable-singer",
   "metadata": {},
   "outputs": [],
   "source": [
    "data_set_util = DataSetUtil()\n",
    "metrics_util = MetricsUtil()\n",
    "statistics_util = StatisticsUtil()"
   ]
  },
  {
   "cell_type": "markdown",
   "id": "smooth-doctrine",
   "metadata": {},
   "source": [
    "## Global Variables "
   ]
  },
  {
   "cell_type": "code",
   "execution_count": 3,
   "id": "moderate-kentucky",
   "metadata": {},
   "outputs": [],
   "source": [
    "lags = 1\n",
    "n_components = 2 \n",
    "endogen_variable = None\n",
    "time_variable = 'date' \n",
    "num_fuzzy_sets = 5\n",
    "partitioner = None # CMeansPartitioner #FCMPartitioner # HuarngPartitioner\n",
    "order = 1\n",
    "gamma_kpca = 0.1\n",
    "seasionality_vars = False\n",
    "n_windows = 30\n",
    "train_size = 0.75\n",
    "plot_graph = False\n",
    "target_variable =  endogen_variable\n",
    "n_jobs = 8"
   ]
  },
  {
   "cell_type": "markdown",
   "id": "defensive-costs",
   "metadata": {},
   "source": [
    "## AEC Data Set "
   ]
  },
  {
   "cell_type": "code",
   "execution_count": 4,
   "id": "optional-badge",
   "metadata": {},
   "outputs": [
    {
     "data": {
      "text/html": [
       "<div>\n",
       "<style scoped>\n",
       "    .dataframe tbody tr th:only-of-type {\n",
       "        vertical-align: middle;\n",
       "    }\n",
       "\n",
       "    .dataframe tbody tr th {\n",
       "        vertical-align: top;\n",
       "    }\n",
       "\n",
       "    .dataframe thead th {\n",
       "        text-align: right;\n",
       "    }\n",
       "</style>\n",
       "<table border=\"1\" class=\"dataframe\">\n",
       "  <thead>\n",
       "    <tr style=\"text-align: right;\">\n",
       "      <th></th>\n",
       "      <th>PM2.5(t)</th>\n",
       "      <th>PM10(t)</th>\n",
       "      <th>SO2(t)</th>\n",
       "      <th>NO2(t)</th>\n",
       "      <th>CO(t)</th>\n",
       "      <th>O3(t)</th>\n",
       "      <th>TEMP(t)</th>\n",
       "      <th>PRES(t)</th>\n",
       "      <th>DEWP(t)</th>\n",
       "      <th>RAIN(t)</th>\n",
       "      <th>...</th>\n",
       "      <th>SO2.3(t+1)</th>\n",
       "      <th>NO2.3(t+1)</th>\n",
       "      <th>CO.3(t+1)</th>\n",
       "      <th>O3.3(t+1)</th>\n",
       "      <th>TEMP.3(t+1)</th>\n",
       "      <th>PRES.3(t+1)</th>\n",
       "      <th>DEWP.3(t+1)</th>\n",
       "      <th>RAIN.3(t+1)</th>\n",
       "      <th>WSPM.3(t+1)</th>\n",
       "      <th>date</th>\n",
       "    </tr>\n",
       "  </thead>\n",
       "  <tbody>\n",
       "    <tr>\n",
       "      <th>6</th>\n",
       "      <td>5.0</td>\n",
       "      <td>5.0</td>\n",
       "      <td>18.0</td>\n",
       "      <td>18.0</td>\n",
       "      <td>400.0</td>\n",
       "      <td>66.0</td>\n",
       "      <td>-2.2</td>\n",
       "      <td>1025.6</td>\n",
       "      <td>-19.6</td>\n",
       "      <td>0.0</td>\n",
       "      <td>...</td>\n",
       "      <td>10.0</td>\n",
       "      <td>29.0</td>\n",
       "      <td>400.0</td>\n",
       "      <td>67.0</td>\n",
       "      <td>-2.5</td>\n",
       "      <td>1028.2</td>\n",
       "      <td>-20.4</td>\n",
       "      <td>0.0</td>\n",
       "      <td>2.2</td>\n",
       "      <td>2013-03-01 06:00:00</td>\n",
       "    </tr>\n",
       "    <tr>\n",
       "      <th>7</th>\n",
       "      <td>3.0</td>\n",
       "      <td>3.0</td>\n",
       "      <td>18.0</td>\n",
       "      <td>32.0</td>\n",
       "      <td>500.0</td>\n",
       "      <td>50.0</td>\n",
       "      <td>-2.6</td>\n",
       "      <td>1026.5</td>\n",
       "      <td>-19.1</td>\n",
       "      <td>0.0</td>\n",
       "      <td>...</td>\n",
       "      <td>12.0</td>\n",
       "      <td>40.0</td>\n",
       "      <td>400.0</td>\n",
       "      <td>52.0</td>\n",
       "      <td>-1.4</td>\n",
       "      <td>1029.5</td>\n",
       "      <td>-20.4</td>\n",
       "      <td>0.0</td>\n",
       "      <td>3.0</td>\n",
       "      <td>2013-03-01 07:00:00</td>\n",
       "    </tr>\n",
       "    <tr>\n",
       "      <th>8</th>\n",
       "      <td>3.0</td>\n",
       "      <td>6.0</td>\n",
       "      <td>19.0</td>\n",
       "      <td>41.0</td>\n",
       "      <td>500.0</td>\n",
       "      <td>43.0</td>\n",
       "      <td>-1.6</td>\n",
       "      <td>1027.4</td>\n",
       "      <td>-19.1</td>\n",
       "      <td>0.0</td>\n",
       "      <td>...</td>\n",
       "      <td>12.0</td>\n",
       "      <td>41.0</td>\n",
       "      <td>500.0</td>\n",
       "      <td>54.0</td>\n",
       "      <td>-0.3</td>\n",
       "      <td>1030.4</td>\n",
       "      <td>-21.2</td>\n",
       "      <td>0.0</td>\n",
       "      <td>4.6</td>\n",
       "      <td>2013-03-01 08:00:00</td>\n",
       "    </tr>\n",
       "    <tr>\n",
       "      <th>9</th>\n",
       "      <td>3.0</td>\n",
       "      <td>6.0</td>\n",
       "      <td>16.0</td>\n",
       "      <td>43.0</td>\n",
       "      <td>500.0</td>\n",
       "      <td>45.0</td>\n",
       "      <td>0.1</td>\n",
       "      <td>1028.3</td>\n",
       "      <td>-19.2</td>\n",
       "      <td>0.0</td>\n",
       "      <td>...</td>\n",
       "      <td>9.0</td>\n",
       "      <td>31.0</td>\n",
       "      <td>400.0</td>\n",
       "      <td>69.0</td>\n",
       "      <td>0.4</td>\n",
       "      <td>1030.5</td>\n",
       "      <td>-23.3</td>\n",
       "      <td>0.0</td>\n",
       "      <td>5.5</td>\n",
       "      <td>2013-03-01 09:00:00</td>\n",
       "    </tr>\n",
       "    <tr>\n",
       "      <th>13</th>\n",
       "      <td>3.0</td>\n",
       "      <td>8.0</td>\n",
       "      <td>12.0</td>\n",
       "      <td>28.0</td>\n",
       "      <td>400.0</td>\n",
       "      <td>59.0</td>\n",
       "      <td>1.2</td>\n",
       "      <td>1028.5</td>\n",
       "      <td>-19.3</td>\n",
       "      <td>0.0</td>\n",
       "      <td>...</td>\n",
       "      <td>5.0</td>\n",
       "      <td>16.0</td>\n",
       "      <td>300.0</td>\n",
       "      <td>91.0</td>\n",
       "      <td>5.0</td>\n",
       "      <td>1027.8</td>\n",
       "      <td>-21.2</td>\n",
       "      <td>0.0</td>\n",
       "      <td>4.5</td>\n",
       "      <td>2013-03-01 13:00:00</td>\n",
       "    </tr>\n",
       "  </tbody>\n",
       "</table>\n",
       "<p>5 rows × 89 columns</p>\n",
       "</div>"
      ],
      "text/plain": [
       "    PM2.5(t)  PM10(t)  SO2(t)  NO2(t)  CO(t)  O3(t)  TEMP(t)  PRES(t)  \\\n",
       "6        5.0      5.0    18.0    18.0  400.0   66.0     -2.2   1025.6   \n",
       "7        3.0      3.0    18.0    32.0  500.0   50.0     -2.6   1026.5   \n",
       "8        3.0      6.0    19.0    41.0  500.0   43.0     -1.6   1027.4   \n",
       "9        3.0      6.0    16.0    43.0  500.0   45.0      0.1   1028.3   \n",
       "13       3.0      8.0    12.0    28.0  400.0   59.0      1.2   1028.5   \n",
       "\n",
       "    DEWP(t)  RAIN(t)  ...  SO2.3(t+1)  NO2.3(t+1)  CO.3(t+1)  O3.3(t+1)  \\\n",
       "6     -19.6      0.0  ...        10.0        29.0      400.0       67.0   \n",
       "7     -19.1      0.0  ...        12.0        40.0      400.0       52.0   \n",
       "8     -19.1      0.0  ...        12.0        41.0      500.0       54.0   \n",
       "9     -19.2      0.0  ...         9.0        31.0      400.0       69.0   \n",
       "13    -19.3      0.0  ...         5.0        16.0      300.0       91.0   \n",
       "\n",
       "    TEMP.3(t+1)  PRES.3(t+1)  DEWP.3(t+1)  RAIN.3(t+1)  WSPM.3(t+1)  \\\n",
       "6          -2.5       1028.2        -20.4          0.0          2.2   \n",
       "7          -1.4       1029.5        -20.4          0.0          3.0   \n",
       "8          -0.3       1030.4        -21.2          0.0          4.6   \n",
       "9           0.4       1030.5        -23.3          0.0          5.5   \n",
       "13          5.0       1027.8        -21.2          0.0          4.5   \n",
       "\n",
       "                  date  \n",
       "6  2013-03-01 06:00:00  \n",
       "7  2013-03-01 07:00:00  \n",
       "8  2013-03-01 08:00:00  \n",
       "9  2013-03-01 09:00:00  \n",
       "13 2013-03-01 13:00:00  \n",
       "\n",
       "[5 rows x 89 columns]"
      ]
     },
     "execution_count": 4,
     "metadata": {},
     "output_type": "execute_result"
    }
   ],
   "source": [
    "time_step_ahead = 1\n",
    "\n",
    "df = pd.read_csv('/home/hugo/projetos-doutorado/mimo_emb_fts/data/air/air_quality_beijing_6_sites.csv', sep=',')\n",
    "\n",
    "df = df.drop(labels=['No','wd','station'], axis=1)\n",
    "df = df.drop(labels=['No.1','day.1','year.1','month.1','hour.1','wd.1','station.1'], axis=1)\n",
    "df = df.drop(labels=['No.2','day.2','year.2','month.2','hour.2','wd.2','station.2'], axis=1)\n",
    "df = df.drop(labels=['No.3','day.3','year.3','month.3','hour.3','wd.3','station.3'], axis=1)\n",
    "df = df.drop(labels=['No.4','day.4','year.4','month.4','hour.4','wd.4','station.4'], axis=1)\n",
    "df = df.drop(labels=['No.5','day.5','year.5','month.5','hour.5','wd.5','station.5'], axis=1)\n",
    "\n",
    "time = pd.to_datetime(df[['year', 'month', 'day', 'hour']])\n",
    "df = data_set_util.clean_dataset(df.loc[:,'PM2.5':'WSPM.3'])\n",
    "\n",
    "variables = df.loc[:,'PM2.5':'WSPM.3'].columns \n",
    "\n",
    "data = data_set_util.series_to_supervised_mimo(df.loc[:,'PM2.5':'WSPM.3'], \n",
    "                                               lags, time_step_ahead)\n",
    "data['date'] = pd.to_datetime(time)\n",
    "data.head(5)"
   ]
  },
  {
   "cell_type": "markdown",
   "id": "soviet-bedroom",
   "metadata": {},
   "source": [
    "## MIMO One step ahead method "
   ]
  },
  {
   "cell_type": "code",
   "execution_count": 5,
   "id": "negative-korea",
   "metadata": {},
   "outputs": [],
   "source": [
    "first_col_test = 'PM2.5(t)' \n",
    "last_col_test = 'WSPM.3(t)' \n",
    "last_col_test = 'date'\n",
    "first_col_test_val = 'PM2.5(t+1)' \n",
    "last_col_test_val = 'WSPM.3(t+1)' \n",
    "time_steps =  time_step_ahead\n",
    "vars_vector = data.loc[:,'PM2.5(t+1)':'WSPM.3(t+1)'].columns\n",
    "vars_vector_test = data.loc[:,'PM2.5(t+1)':'WSPM.3(t+1)'].columns"
   ]
  },
  {
   "cell_type": "code",
   "execution_count": 6,
   "id": "behind-mining",
   "metadata": {},
   "outputs": [
    {
     "name": "stdout",
     "output_type": "stream",
     "text": [
      "Number of processors:  8\n",
      "Number of jobs:  8\n"
     ]
    }
   ],
   "source": [
    "efts_multi_step = SerialMimoEFTS(n_components = n_components, endogen_variable = endogen_variable, \n",
    "                                    time_variable = time_variable, num_fuzzy_sets = num_fuzzy_sets, \n",
    "                                    partitioner = partitioner, order = order, steps_ahead = time_step_ahead, \n",
    "                                    gamma_kpca = gamma_kpca, seasionality_vars = seasionality_vars,\n",
    "                                    vars_vector = vars_vector,n_jobs = n_jobs,vars_vector_test = vars_vector_test)"
   ]
  },
  {
   "cell_type": "markdown",
   "id": "declared-world",
   "metadata": {},
   "source": [
    "## Sliding window cross validation"
   ]
  },
  {
   "cell_type": "markdown",
   "id": "suspected-break",
   "metadata": {},
   "source": [
    "### Embedding Transformation = PCA"
   ]
  },
  {
   "cell_type": "code",
   "execution_count": 7,
   "id": "hungarian-patio",
   "metadata": {},
   "outputs": [],
   "source": [
    "transformation = 'PCA' "
   ]
  },
  {
   "cell_type": "code",
   "execution_count": 8,
   "id": "introductory-nutrition",
   "metadata": {},
   "outputs": [
    {
     "name": "stdout",
     "output_type": "stream",
     "text": [
      "windows length = 833\n",
      "--------------------\n",
      "\n",
      " ===> Training window 0\n",
      "\n",
      "Start method learning.\n",
      " \n",
      "PM2.5(t+1) model (learning)\n",
      "PM10(t+1) model (learning)\n",
      "SO2(t+1) model (learning)\n",
      "NO2(t+1) model (learning)\n",
      "CO(t+1) model (learning)\n",
      "O3(t+1) model (learning)\n",
      "TEMP(t+1) model (learning)\n",
      "PRES(t+1) model (learning)\n",
      "DEWP(t+1) model (learning)\n",
      "RAIN(t+1) model (learning)\n",
      "WSPM(t+1) model (learning)\n",
      "PM2.5.1(t+1) model (learning)\n",
      "PM10.1(t+1) model (learning)\n",
      "SO2.1(t+1) model (learning)\n",
      "NO2.1(t+1) model (learning)\n",
      "CO.1(t+1) model (learning)\n",
      "O3.1(t+1) model (learning)\n",
      "TEMP.1(t+1) model (learning)\n",
      "PRES.1(t+1) model (learning)\n",
      "DEWP.1(t+1) model (learning)\n",
      "RAIN.1(t+1) model (learning)\n",
      "WSPM.1(t+1) model (learning)\n",
      "PM2.5.2(t+1) model (learning)\n",
      "PM10.2(t+1) model (learning)\n",
      "SO2.2(t+1) model (learning)\n",
      "NO2.2(t+1) model (learning)\n",
      "CO.2(t+1) model (learning)\n",
      "O3.2(t+1) model (learning)\n",
      "TEMP.2(t+1) model (learning)\n",
      "PRES.2(t+1) model (learning)\n",
      "DEWP.2(t+1) model (learning)\n",
      "RAIN.2(t+1) model (learning)\n",
      "WSPM.2(t+1) model (learning)\n",
      "PM2.5.3(t+1) model (learning)\n",
      "PM10.3(t+1) model (learning)\n",
      "SO2.3(t+1) model (learning)\n",
      "NO2.3(t+1) model (learning)\n",
      "CO.3(t+1) model (learning)\n",
      "O3.3(t+1) model (learning)\n",
      "TEMP.3(t+1) model (learning)\n",
      "PRES.3(t+1) model (learning)\n",
      "DEWP.3(t+1) model (learning)\n",
      "RAIN.3(t+1) model (learning)\n",
      "WSPM.3(t+1) model (learning)\n",
      " \n",
      "End method learning.\n",
      " \n",
      " 17.9 secs \n",
      " 17.9 secs   0.2 MByte\n",
      " \n",
      "Start method forecasting.\n",
      "\n",
      "PM2.5(t+1) --> forecasting \n",
      "PM2.5(t)---> input this variable as target\n",
      "PM10(t+1) --> forecasting \n",
      "PM10(t)---> input this variable as target\n",
      "SO2(t+1) --> forecasting \n",
      "SO2(t)---> input this variable as target\n",
      "NO2(t+1) --> forecasting \n",
      "NO2(t)---> input this variable as target\n",
      "CO(t+1) --> forecasting \n",
      "CO(t)---> input this variable as target\n",
      "O3(t+1) --> forecasting \n",
      "O3(t)---> input this variable as target\n",
      "TEMP(t+1) --> forecasting \n",
      "TEMP(t)---> input this variable as target\n",
      "PRES(t+1) --> forecasting \n",
      "PRES(t)---> input this variable as target\n",
      "DEWP(t+1) --> forecasting \n",
      "DEWP(t)---> input this variable as target\n",
      "RAIN(t+1) --> forecasting \n",
      "RAIN(t)---> input this variable as target\n",
      "WSPM(t+1) --> forecasting \n",
      "WSPM(t)---> input this variable as target\n",
      "PM2.5.1(t+1) --> forecasting \n",
      "PM2.5.1(t)---> input this variable as target\n",
      "PM10.1(t+1) --> forecasting \n",
      "PM10.1(t)---> input this variable as target\n",
      "SO2.1(t+1) --> forecasting \n",
      "SO2.1(t)---> input this variable as target\n",
      "NO2.1(t+1) --> forecasting \n",
      "NO2.1(t)---> input this variable as target\n",
      "CO.1(t+1) --> forecasting \n",
      "CO.1(t)---> input this variable as target\n",
      "O3.1(t+1) --> forecasting \n",
      "O3.1(t)---> input this variable as target\n",
      "TEMP.1(t+1) --> forecasting \n",
      "TEMP.1(t)---> input this variable as target\n",
      "PRES.1(t+1) --> forecasting \n",
      "PRES.1(t)---> input this variable as target\n",
      "DEWP.1(t+1) --> forecasting \n",
      "DEWP.1(t)---> input this variable as target\n",
      "RAIN.1(t+1) --> forecasting \n",
      "RAIN.1(t)---> input this variable as target\n",
      "WSPM.1(t+1) --> forecasting \n",
      "WSPM.1(t)---> input this variable as target\n",
      "PM2.5.2(t+1) --> forecasting \n",
      "PM2.5.2(t)---> input this variable as target\n",
      "PM10.2(t+1) --> forecasting \n",
      "PM10.2(t)---> input this variable as target\n",
      "SO2.2(t+1) --> forecasting \n",
      "SO2.2(t)---> input this variable as target\n",
      "NO2.2(t+1) --> forecasting \n",
      "NO2.2(t)---> input this variable as target\n",
      "CO.2(t+1) --> forecasting \n",
      "CO.2(t)---> input this variable as target\n",
      "O3.2(t+1) --> forecasting \n",
      "O3.2(t)---> input this variable as target\n",
      "TEMP.2(t+1) --> forecasting \n",
      "TEMP.2(t)---> input this variable as target\n",
      "PRES.2(t+1) --> forecasting \n",
      "PRES.2(t)---> input this variable as target\n",
      "DEWP.2(t+1) --> forecasting \n",
      "DEWP.2(t)---> input this variable as target\n",
      "RAIN.2(t+1) --> forecasting \n",
      "RAIN.2(t)---> input this variable as target\n",
      "WSPM.2(t+1) --> forecasting \n",
      "WSPM.2(t)---> input this variable as target\n",
      "PM2.5.3(t+1) --> forecasting \n",
      "PM2.5.3(t)---> input this variable as target\n",
      "PM10.3(t+1) --> forecasting \n",
      "PM10.3(t)---> input this variable as target\n",
      "SO2.3(t+1) --> forecasting \n",
      "SO2.3(t)---> input this variable as target\n",
      "NO2.3(t+1) --> forecasting \n",
      "NO2.3(t)---> input this variable as target\n",
      "CO.3(t+1) --> forecasting \n",
      "CO.3(t)---> input this variable as target\n",
      "O3.3(t+1) --> forecasting \n",
      "O3.3(t)---> input this variable as target\n",
      "TEMP.3(t+1) --> forecasting \n",
      "TEMP.3(t)---> input this variable as target\n",
      "PRES.3(t+1) --> forecasting \n",
      "PRES.3(t)---> input this variable as target\n",
      "DEWP.3(t+1) --> forecasting \n",
      "DEWP.3(t)---> input this variable as target\n",
      "RAIN.3(t+1) --> forecasting \n",
      "RAIN.3(t)---> input this variable as target\n",
      "WSPM.3(t+1) --> forecasting \n",
      "WSPM.3(t)---> input this variable as target\n",
      " \n",
      "End method forecasting.\n",
      " \n",
      " 11.4 secs \n",
      " 11.4 secs   0.2 MByte\n",
      "time_steps: 1\n"
     ]
    },
    {
     "ename": "ValueError",
     "evalue": "Input contains NaN, infinity or a value too large for dtype('float64').",
     "output_type": "error",
     "traceback": [
      "\u001b[0;31m---------------------------------------------------------------------------\u001b[0m",
      "\u001b[0;31mValueError\u001b[0m                                Traceback (most recent call last)",
      "\u001b[0;32m<ipython-input-8-9768f342c2a6>\u001b[0m in \u001b[0;36m<module>\u001b[0;34m\u001b[0m\n\u001b[0;32m----> 1\u001b[0;31m final_metrics_measures_pca, metrics_measures_pca = statistics_util.sliding_windows_mimo_2(data = data, n_windows = n_windows, train_size= train_size, \n\u001b[0m\u001b[1;32m      2\u001b[0m                                                         \u001b[0mefts_model\u001b[0m \u001b[0;34m=\u001b[0m \u001b[0mefts_multi_step\u001b[0m\u001b[0;34m,\u001b[0m \u001b[0mtransformation\u001b[0m \u001b[0;34m=\u001b[0m \u001b[0mtransformation\u001b[0m\u001b[0;34m,\u001b[0m\u001b[0;34m\u001b[0m\u001b[0;34m\u001b[0m\u001b[0m\n\u001b[1;32m      3\u001b[0m                                                         \u001b[0mfirst_col_test\u001b[0m \u001b[0;34m=\u001b[0m \u001b[0mfirst_col_test\u001b[0m\u001b[0;34m,\u001b[0m \u001b[0mlast_col_test\u001b[0m \u001b[0;34m=\u001b[0m \u001b[0mlast_col_test\u001b[0m\u001b[0;34m,\u001b[0m\u001b[0;34m\u001b[0m\u001b[0;34m\u001b[0m\u001b[0m\n\u001b[1;32m      4\u001b[0m                                                         \u001b[0mfirst_col_test_val\u001b[0m \u001b[0;34m=\u001b[0m \u001b[0mfirst_col_test_val\u001b[0m\u001b[0;34m,\u001b[0m \u001b[0mlast_col_test_val\u001b[0m \u001b[0;34m=\u001b[0m \u001b[0mlast_col_test_val\u001b[0m\u001b[0;34m,\u001b[0m\u001b[0;34m\u001b[0m\u001b[0;34m\u001b[0m\u001b[0m\n\u001b[1;32m      5\u001b[0m                                                         \u001b[0mtime_steps\u001b[0m \u001b[0;34m=\u001b[0m \u001b[0mtime_steps\u001b[0m\u001b[0;34m,\u001b[0m \u001b[0mtarget_variable\u001b[0m \u001b[0;34m=\u001b[0m \u001b[0mtarget_variable\u001b[0m\u001b[0;34m,\u001b[0m\u001b[0;34m\u001b[0m\u001b[0;34m\u001b[0m\u001b[0m\n",
      "\u001b[0;32m~/projetos-doutorado/efts_multi_step/src/efts/util/StatisticsUtil.py\u001b[0m in \u001b[0;36msliding_windows_mimo_2\u001b[0;34m(self, data, n_windows, train_size, efts_model, transformation, first_col_test, last_col_test, first_col_test_val, last_col_test_val, time_steps, target_variable, plot_graph, vars_vector)\u001b[0m\n\u001b[1;32m    389\u001b[0m \u001b[0;34m\u001b[0m\u001b[0m\n\u001b[1;32m    390\u001b[0m                 \u001b[0;32mfor\u001b[0m \u001b[0mi\u001b[0m \u001b[0;32min\u001b[0m \u001b[0mvars_vector\u001b[0m\u001b[0;34m:\u001b[0m\u001b[0;34m\u001b[0m\u001b[0;34m\u001b[0m\u001b[0m\n\u001b[0;32m--> 391\u001b[0;31m                     result = compute_all_metrics(\n\u001b[0m\u001b[1;32m    392\u001b[0m                         \u001b[0my_test_validation\u001b[0m\u001b[0;34m[\u001b[0m\u001b[0mi\u001b[0m\u001b[0;34m]\u001b[0m\u001b[0;34m.\u001b[0m\u001b[0mvalues\u001b[0m\u001b[0;34m[\u001b[0m\u001b[0;34m:\u001b[0m\u001b[0;34m(\u001b[0m\u001b[0mlen\u001b[0m\u001b[0;34m(\u001b[0m\u001b[0my_test_validation\u001b[0m\u001b[0;34m)\u001b[0m\u001b[0;34m-\u001b[0m\u001b[0;36m1\u001b[0m\u001b[0;34m)\u001b[0m\u001b[0;34m]\u001b[0m\u001b[0;34m,\u001b[0m\u001b[0;34m\u001b[0m\u001b[0;34m\u001b[0m\u001b[0m\n\u001b[1;32m    393\u001b[0m                         \u001b[0mforecast_results\u001b[0m\u001b[0;34m[\u001b[0m\u001b[0mi\u001b[0m\u001b[0;34m]\u001b[0m\u001b[0;34m[\u001b[0m\u001b[0;36m0\u001b[0m\u001b[0;34m]\u001b[0m\u001b[0;34m,\u001b[0m\u001b[0;34m\u001b[0m\u001b[0;34m\u001b[0m\u001b[0m\n",
      "\u001b[0;32m~/projetos-doutorado/efts_multi_step/src/efts/util/MetricsUtil.py\u001b[0m in \u001b[0;36mcompute_all_metrics\u001b[0;34m(target, forecast, results, window, time_step, time_cost, mem_cost, rules, variable)\u001b[0m\n\u001b[1;32m     23\u001b[0m     \u001b[0mforecast\u001b[0m\u001b[0;34m.\u001b[0m\u001b[0mfillna\u001b[0m\u001b[0;34m(\u001b[0m\u001b[0mforecast\u001b[0m\u001b[0;34m.\u001b[0m\u001b[0mmean\u001b[0m\u001b[0;34m(\u001b[0m\u001b[0;34m)\u001b[0m\u001b[0;34m,\u001b[0m \u001b[0minplace\u001b[0m\u001b[0;34m=\u001b[0m\u001b[0;32mTrue\u001b[0m\u001b[0;34m)\u001b[0m\u001b[0;34m\u001b[0m\u001b[0;34m\u001b[0m\u001b[0m\n\u001b[1;32m     24\u001b[0m     \u001b[0mforecast\u001b[0m \u001b[0;34m=\u001b[0m \u001b[0mnp\u001b[0m\u001b[0;34m.\u001b[0m\u001b[0marray\u001b[0m\u001b[0;34m(\u001b[0m\u001b[0mforecast\u001b[0m\u001b[0;34m)\u001b[0m\u001b[0;34m.\u001b[0m\u001b[0mreshape\u001b[0m\u001b[0;34m(\u001b[0m\u001b[0;34m-\u001b[0m\u001b[0;36m1\u001b[0m\u001b[0;34m)\u001b[0m\u001b[0;34m\u001b[0m\u001b[0;34m\u001b[0m\u001b[0m\n\u001b[0;32m---> 25\u001b[0;31m     \u001b[0mmae\u001b[0m \u001b[0;34m=\u001b[0m \u001b[0mround\u001b[0m\u001b[0;34m(\u001b[0m\u001b[0mmean_absolute_error\u001b[0m\u001b[0;34m(\u001b[0m\u001b[0mtarget\u001b[0m\u001b[0;34m,\u001b[0m \u001b[0mforecast\u001b[0m\u001b[0;34m)\u001b[0m\u001b[0;34m,\u001b[0m\u001b[0;36m3\u001b[0m\u001b[0;34m)\u001b[0m \u001b[0;31m#if not np.isinf(round(mean_absolute_error(target, forecast),3)) and not np.isnan(round(mean_absolute_error(target, forecast),3)) else 0\u001b[0m\u001b[0;34m\u001b[0m\u001b[0;34m\u001b[0m\u001b[0m\n\u001b[0m\u001b[1;32m     26\u001b[0m \u001b[0;34m\u001b[0m\u001b[0m\n\u001b[1;32m     27\u001b[0m \u001b[0;34m\u001b[0m\u001b[0m\n",
      "\u001b[0;32m~/anaconda3/lib/python3.8/site-packages/sklearn/utils/validation.py\u001b[0m in \u001b[0;36minner_f\u001b[0;34m(*args, **kwargs)\u001b[0m\n\u001b[1;32m     61\u001b[0m             \u001b[0mextra_args\u001b[0m \u001b[0;34m=\u001b[0m \u001b[0mlen\u001b[0m\u001b[0;34m(\u001b[0m\u001b[0margs\u001b[0m\u001b[0;34m)\u001b[0m \u001b[0;34m-\u001b[0m \u001b[0mlen\u001b[0m\u001b[0;34m(\u001b[0m\u001b[0mall_args\u001b[0m\u001b[0;34m)\u001b[0m\u001b[0;34m\u001b[0m\u001b[0;34m\u001b[0m\u001b[0m\n\u001b[1;32m     62\u001b[0m             \u001b[0;32mif\u001b[0m \u001b[0mextra_args\u001b[0m \u001b[0;34m<=\u001b[0m \u001b[0;36m0\u001b[0m\u001b[0;34m:\u001b[0m\u001b[0;34m\u001b[0m\u001b[0;34m\u001b[0m\u001b[0m\n\u001b[0;32m---> 63\u001b[0;31m                 \u001b[0;32mreturn\u001b[0m \u001b[0mf\u001b[0m\u001b[0;34m(\u001b[0m\u001b[0;34m*\u001b[0m\u001b[0margs\u001b[0m\u001b[0;34m,\u001b[0m \u001b[0;34m**\u001b[0m\u001b[0mkwargs\u001b[0m\u001b[0;34m)\u001b[0m\u001b[0;34m\u001b[0m\u001b[0;34m\u001b[0m\u001b[0m\n\u001b[0m\u001b[1;32m     64\u001b[0m \u001b[0;34m\u001b[0m\u001b[0m\n\u001b[1;32m     65\u001b[0m             \u001b[0;31m# extra_args > 0\u001b[0m\u001b[0;34m\u001b[0m\u001b[0;34m\u001b[0m\u001b[0;34m\u001b[0m\u001b[0m\n",
      "\u001b[0;32m~/anaconda3/lib/python3.8/site-packages/sklearn/metrics/_regression.py\u001b[0m in \u001b[0;36mmean_absolute_error\u001b[0;34m(y_true, y_pred, sample_weight, multioutput)\u001b[0m\n\u001b[1;32m    180\u001b[0m     \u001b[0;36m0.85\u001b[0m\u001b[0;34m...\u001b[0m\u001b[0;34m\u001b[0m\u001b[0;34m\u001b[0m\u001b[0m\n\u001b[1;32m    181\u001b[0m     \"\"\"\n\u001b[0;32m--> 182\u001b[0;31m     y_type, y_true, y_pred, multioutput = _check_reg_targets(\n\u001b[0m\u001b[1;32m    183\u001b[0m         y_true, y_pred, multioutput)\n\u001b[1;32m    184\u001b[0m     \u001b[0mcheck_consistent_length\u001b[0m\u001b[0;34m(\u001b[0m\u001b[0my_true\u001b[0m\u001b[0;34m,\u001b[0m \u001b[0my_pred\u001b[0m\u001b[0;34m,\u001b[0m \u001b[0msample_weight\u001b[0m\u001b[0;34m)\u001b[0m\u001b[0;34m\u001b[0m\u001b[0;34m\u001b[0m\u001b[0m\n",
      "\u001b[0;32m~/anaconda3/lib/python3.8/site-packages/sklearn/metrics/_regression.py\u001b[0m in \u001b[0;36m_check_reg_targets\u001b[0;34m(y_true, y_pred, multioutput, dtype)\u001b[0m\n\u001b[1;32m     88\u001b[0m     \u001b[0mcheck_consistent_length\u001b[0m\u001b[0;34m(\u001b[0m\u001b[0my_true\u001b[0m\u001b[0;34m,\u001b[0m \u001b[0my_pred\u001b[0m\u001b[0;34m)\u001b[0m\u001b[0;34m\u001b[0m\u001b[0;34m\u001b[0m\u001b[0m\n\u001b[1;32m     89\u001b[0m     \u001b[0my_true\u001b[0m \u001b[0;34m=\u001b[0m \u001b[0mcheck_array\u001b[0m\u001b[0;34m(\u001b[0m\u001b[0my_true\u001b[0m\u001b[0;34m,\u001b[0m \u001b[0mensure_2d\u001b[0m\u001b[0;34m=\u001b[0m\u001b[0;32mFalse\u001b[0m\u001b[0;34m,\u001b[0m \u001b[0mdtype\u001b[0m\u001b[0;34m=\u001b[0m\u001b[0mdtype\u001b[0m\u001b[0;34m)\u001b[0m\u001b[0;34m\u001b[0m\u001b[0;34m\u001b[0m\u001b[0m\n\u001b[0;32m---> 90\u001b[0;31m     \u001b[0my_pred\u001b[0m \u001b[0;34m=\u001b[0m \u001b[0mcheck_array\u001b[0m\u001b[0;34m(\u001b[0m\u001b[0my_pred\u001b[0m\u001b[0;34m,\u001b[0m \u001b[0mensure_2d\u001b[0m\u001b[0;34m=\u001b[0m\u001b[0;32mFalse\u001b[0m\u001b[0;34m,\u001b[0m \u001b[0mdtype\u001b[0m\u001b[0;34m=\u001b[0m\u001b[0mdtype\u001b[0m\u001b[0;34m)\u001b[0m\u001b[0;34m\u001b[0m\u001b[0;34m\u001b[0m\u001b[0m\n\u001b[0m\u001b[1;32m     91\u001b[0m \u001b[0;34m\u001b[0m\u001b[0m\n\u001b[1;32m     92\u001b[0m     \u001b[0;32mif\u001b[0m \u001b[0my_true\u001b[0m\u001b[0;34m.\u001b[0m\u001b[0mndim\u001b[0m \u001b[0;34m==\u001b[0m \u001b[0;36m1\u001b[0m\u001b[0;34m:\u001b[0m\u001b[0;34m\u001b[0m\u001b[0;34m\u001b[0m\u001b[0m\n",
      "\u001b[0;32m~/anaconda3/lib/python3.8/site-packages/sklearn/utils/validation.py\u001b[0m in \u001b[0;36minner_f\u001b[0;34m(*args, **kwargs)\u001b[0m\n\u001b[1;32m     61\u001b[0m             \u001b[0mextra_args\u001b[0m \u001b[0;34m=\u001b[0m \u001b[0mlen\u001b[0m\u001b[0;34m(\u001b[0m\u001b[0margs\u001b[0m\u001b[0;34m)\u001b[0m \u001b[0;34m-\u001b[0m \u001b[0mlen\u001b[0m\u001b[0;34m(\u001b[0m\u001b[0mall_args\u001b[0m\u001b[0;34m)\u001b[0m\u001b[0;34m\u001b[0m\u001b[0;34m\u001b[0m\u001b[0m\n\u001b[1;32m     62\u001b[0m             \u001b[0;32mif\u001b[0m \u001b[0mextra_args\u001b[0m \u001b[0;34m<=\u001b[0m \u001b[0;36m0\u001b[0m\u001b[0;34m:\u001b[0m\u001b[0;34m\u001b[0m\u001b[0;34m\u001b[0m\u001b[0m\n\u001b[0;32m---> 63\u001b[0;31m                 \u001b[0;32mreturn\u001b[0m \u001b[0mf\u001b[0m\u001b[0;34m(\u001b[0m\u001b[0;34m*\u001b[0m\u001b[0margs\u001b[0m\u001b[0;34m,\u001b[0m \u001b[0;34m**\u001b[0m\u001b[0mkwargs\u001b[0m\u001b[0;34m)\u001b[0m\u001b[0;34m\u001b[0m\u001b[0;34m\u001b[0m\u001b[0m\n\u001b[0m\u001b[1;32m     64\u001b[0m \u001b[0;34m\u001b[0m\u001b[0m\n\u001b[1;32m     65\u001b[0m             \u001b[0;31m# extra_args > 0\u001b[0m\u001b[0;34m\u001b[0m\u001b[0;34m\u001b[0m\u001b[0;34m\u001b[0m\u001b[0m\n",
      "\u001b[0;32m~/anaconda3/lib/python3.8/site-packages/sklearn/utils/validation.py\u001b[0m in \u001b[0;36mcheck_array\u001b[0;34m(array, accept_sparse, accept_large_sparse, dtype, order, copy, force_all_finite, ensure_2d, allow_nd, ensure_min_samples, ensure_min_features, estimator)\u001b[0m\n\u001b[1;32m    661\u001b[0m \u001b[0;34m\u001b[0m\u001b[0m\n\u001b[1;32m    662\u001b[0m         \u001b[0;32mif\u001b[0m \u001b[0mforce_all_finite\u001b[0m\u001b[0;34m:\u001b[0m\u001b[0;34m\u001b[0m\u001b[0;34m\u001b[0m\u001b[0m\n\u001b[0;32m--> 663\u001b[0;31m             _assert_all_finite(array,\n\u001b[0m\u001b[1;32m    664\u001b[0m                                allow_nan=force_all_finite == 'allow-nan')\n\u001b[1;32m    665\u001b[0m \u001b[0;34m\u001b[0m\u001b[0m\n",
      "\u001b[0;32m~/anaconda3/lib/python3.8/site-packages/sklearn/utils/validation.py\u001b[0m in \u001b[0;36m_assert_all_finite\u001b[0;34m(X, allow_nan, msg_dtype)\u001b[0m\n\u001b[1;32m    101\u001b[0m                 not allow_nan and not np.isfinite(X).all()):\n\u001b[1;32m    102\u001b[0m             \u001b[0mtype_err\u001b[0m \u001b[0;34m=\u001b[0m \u001b[0;34m'infinity'\u001b[0m \u001b[0;32mif\u001b[0m \u001b[0mallow_nan\u001b[0m \u001b[0;32melse\u001b[0m \u001b[0;34m'NaN, infinity'\u001b[0m\u001b[0;34m\u001b[0m\u001b[0;34m\u001b[0m\u001b[0m\n\u001b[0;32m--> 103\u001b[0;31m             raise ValueError(\n\u001b[0m\u001b[1;32m    104\u001b[0m                     \u001b[0mmsg_err\u001b[0m\u001b[0;34m.\u001b[0m\u001b[0mformat\u001b[0m\u001b[0;34m\u001b[0m\u001b[0;34m\u001b[0m\u001b[0m\n\u001b[1;32m    105\u001b[0m                     (type_err,\n",
      "\u001b[0;31mValueError\u001b[0m: Input contains NaN, infinity or a value too large for dtype('float64')."
     ]
    }
   ],
   "source": [
    "final_metrics_measures_pca, metrics_measures_pca = statistics_util.sliding_windows_mimo_2(data = data, n_windows = n_windows, train_size= train_size, \n",
    "                                                        efts_model = efts_multi_step, transformation = transformation, \n",
    "                                                        first_col_test = first_col_test, last_col_test = last_col_test,\n",
    "                                                        first_col_test_val = first_col_test_val, last_col_test_val = last_col_test_val,\n",
    "                                                        time_steps = time_steps, target_variable = target_variable, \n",
    "                                                        plot_graph = plot_graph, vars_vector = vars_vector)"
   ]
  },
  {
   "cell_type": "code",
   "execution_count": null,
   "id": "affiliated-brazil",
   "metadata": {},
   "outputs": [],
   "source": [
    "pd.set_option('display.max_rows', None)\n",
    "metrics_measures_pca.head(20)"
   ]
  },
  {
   "cell_type": "code",
   "execution_count": null,
   "id": "chemical-samoa",
   "metadata": {},
   "outputs": [],
   "source": [
    "final_metrics_measures_pca"
   ]
  },
  {
   "cell_type": "code",
   "execution_count": null,
   "id": "aggregate-destination",
   "metadata": {},
   "outputs": [],
   "source": [
    "metrics_measures_pca.to_csv (r'aec_metrics_measures_pca_serial.csv', index = False, header=True)\n",
    "final_metrics_measures_pca.to_csv (r'aec_final_metrics_measures_pca_serial.csv', index = False, header=True)"
   ]
  },
  {
   "cell_type": "markdown",
   "id": "descending-export",
   "metadata": {},
   "source": [
    "### Embedding Transformation = KPCA"
   ]
  },
  {
   "cell_type": "code",
   "execution_count": null,
   "id": "proved-aggregate",
   "metadata": {},
   "outputs": [],
   "source": [
    "transformation = 'KPCA' "
   ]
  },
  {
   "cell_type": "code",
   "execution_count": null,
   "id": "written-fashion",
   "metadata": {},
   "outputs": [],
   "source": [
    "final_metrics_measures_kpca, metrics_measures_kpca = statistics_util.sliding_windows_mimo_2(data = data, n_windows = n_windows, train_size= train_size, \n",
    "                                                        efts_model = efts_multi_step, transformation = transformation, \n",
    "                                                        first_col_test = first_col_test, last_col_test = last_col_test,\n",
    "                                                        first_col_test_val = first_col_test_val, last_col_test_val = last_col_test,\n",
    "                                                        time_steps = time_steps, target_variable = target_variable, \n",
    "                                                        plot_graph = plot_graph, vars_vector = vars_vector)"
   ]
  },
  {
   "cell_type": "code",
   "execution_count": null,
   "id": "talented-mailing",
   "metadata": {
    "scrolled": true
   },
   "outputs": [],
   "source": [
    "pd.set_option('display.max_rows', None)\n",
    "metrics_measures_kpca.head(20)"
   ]
  },
  {
   "cell_type": "code",
   "execution_count": null,
   "id": "stylish-graduation",
   "metadata": {},
   "outputs": [],
   "source": [
    "final_metrics_measures_kpca"
   ]
  },
  {
   "cell_type": "code",
   "execution_count": null,
   "id": "bored-radio",
   "metadata": {},
   "outputs": [],
   "source": [
    "metrics_measures_kpca.to_csv (r'aec_metrics_measures_kpca_serial.csv', index = False, header=True)\n",
    "final_metrics_measures_kpca.to_csv (r'aec_final_metrics_measures_kpca_serial.csv', index = False, header=True)"
   ]
  },
  {
   "cell_type": "markdown",
   "id": "collected-ordinance",
   "metadata": {},
   "source": [
    "## =================================="
   ]
  },
  {
   "cell_type": "markdown",
   "id": "further-group",
   "metadata": {},
   "source": [
    "## =================================="
   ]
  },
  {
   "cell_type": "markdown",
   "id": "vocational-rogers",
   "metadata": {},
   "source": [
    "## =================================="
   ]
  },
  {
   "cell_type": "markdown",
   "id": "organized-peace",
   "metadata": {},
   "source": [
    "## =================================="
   ]
  }
 ],
 "metadata": {
  "kernelspec": {
   "display_name": "Python 3",
   "language": "python",
   "name": "python3"
  },
  "language_info": {
   "codemirror_mode": {
    "name": "ipython",
    "version": 3
   },
   "file_extension": ".py",
   "mimetype": "text/x-python",
   "name": "python",
   "nbconvert_exporter": "python",
   "pygments_lexer": "ipython3",
   "version": "3.8.5"
  }
 },
 "nbformat": 4,
 "nbformat_minor": 5
}
