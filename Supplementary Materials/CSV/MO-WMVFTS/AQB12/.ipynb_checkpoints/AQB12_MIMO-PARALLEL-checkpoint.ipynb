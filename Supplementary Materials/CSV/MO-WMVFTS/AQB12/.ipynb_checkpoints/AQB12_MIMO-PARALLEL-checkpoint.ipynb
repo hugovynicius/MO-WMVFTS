{
 "cells": [
  {
   "cell_type": "code",
   "execution_count": 1,
   "id": "ideal-satisfaction",
   "metadata": {},
   "outputs": [],
   "source": [
    "import sys\n",
    "sys.path.append(\"/home/hugo/projetos-doutorado/efts_multi_step/\")\n",
    "import numpy as np\n",
    "import pandas as pd\n",
    "from src.efts.models.mimo.onestep.ParallelMimoEFTS import ParallelMimoEFTS\n",
    "from src.efts.util.DataSetUtil import DataSetUtil\n",
    "from src.efts.util.MetricsUtil import MetricsUtil\n",
    "from src.efts.util.StatisticsUtil import StatisticsUtil\n",
    "np.seterr(divide='ignore', invalid='ignore')\n",
    "import warnings\n",
    "warnings.filterwarnings(\"ignore\")"
   ]
  },
  {
   "cell_type": "markdown",
   "id": "professional-highway",
   "metadata": {},
   "source": [
    "## Auxiliar Funcions "
   ]
  },
  {
   "cell_type": "code",
   "execution_count": 2,
   "id": "stable-singer",
   "metadata": {},
   "outputs": [],
   "source": [
    "data_set_util = DataSetUtil()\n",
    "metrics_util = MetricsUtil()\n",
    "statistics_util = StatisticsUtil()"
   ]
  },
  {
   "cell_type": "markdown",
   "id": "smooth-doctrine",
   "metadata": {},
   "source": [
    "## Global Variables "
   ]
  },
  {
   "cell_type": "code",
   "execution_count": 3,
   "id": "moderate-kentucky",
   "metadata": {},
   "outputs": [],
   "source": [
    "lags = 1\n",
    "n_components = 3 \n",
    "endogen_variable = None\n",
    "time_variable = 'date' \n",
    "num_fuzzy_sets = 30\n",
    "partitioner = None\n",
    "order = 1\n",
    "gamma_kpca = 0.1\n",
    "n_windows = 30\n",
    "train_size = 0.75\n",
    "plot_graph = False\n",
    "n_jobs = 20\n",
    "seasionality_vars = False\n",
    "target_variable =  endogen_variable"
   ]
  },
  {
   "cell_type": "markdown",
   "id": "defensive-costs",
   "metadata": {},
   "source": [
    "## AEC Data Set "
   ]
  },
  {
   "cell_type": "code",
   "execution_count": 4,
   "id": "optional-badge",
   "metadata": {},
   "outputs": [
    {
     "data": {
      "text/html": [
       "<div>\n",
       "<style scoped>\n",
       "    .dataframe tbody tr th:only-of-type {\n",
       "        vertical-align: middle;\n",
       "    }\n",
       "\n",
       "    .dataframe tbody tr th {\n",
       "        vertical-align: top;\n",
       "    }\n",
       "\n",
       "    .dataframe thead th {\n",
       "        text-align: right;\n",
       "    }\n",
       "</style>\n",
       "<table border=\"1\" class=\"dataframe\">\n",
       "  <thead>\n",
       "    <tr style=\"text-align: right;\">\n",
       "      <th></th>\n",
       "      <th>PM2.5(t)</th>\n",
       "      <th>PM10(t)</th>\n",
       "      <th>SO2(t)</th>\n",
       "      <th>NO2(t)</th>\n",
       "      <th>CO(t)</th>\n",
       "      <th>O3(t)</th>\n",
       "      <th>TEMP(t)</th>\n",
       "      <th>PRES(t)</th>\n",
       "      <th>DEWP(t)</th>\n",
       "      <th>RAIN(t)</th>\n",
       "      <th>...</th>\n",
       "      <th>SO2.11(t+1)</th>\n",
       "      <th>NO2.11(t+1)</th>\n",
       "      <th>CO.11(t+1)</th>\n",
       "      <th>O3.11(t+1)</th>\n",
       "      <th>TEMP.11(t+1)</th>\n",
       "      <th>PRES.11(t+1)</th>\n",
       "      <th>DEWP.11(t+1)</th>\n",
       "      <th>RAIN.11(t+1)</th>\n",
       "      <th>WSPM.11(t+1)</th>\n",
       "      <th>date</th>\n",
       "    </tr>\n",
       "  </thead>\n",
       "  <tbody>\n",
       "    <tr>\n",
       "      <th>24</th>\n",
       "      <td>24.0</td>\n",
       "      <td>24.0</td>\n",
       "      <td>26.0</td>\n",
       "      <td>54.0</td>\n",
       "      <td>600.0</td>\n",
       "      <td>36.0</td>\n",
       "      <td>-0.2</td>\n",
       "      <td>1030.5</td>\n",
       "      <td>-17.4</td>\n",
       "      <td>0.0</td>\n",
       "      <td>...</td>\n",
       "      <td>11.0</td>\n",
       "      <td>35.0</td>\n",
       "      <td>400.0</td>\n",
       "      <td>39.0</td>\n",
       "      <td>0.5</td>\n",
       "      <td>1030.2</td>\n",
       "      <td>-18.3</td>\n",
       "      <td>0.0</td>\n",
       "      <td>1.4</td>\n",
       "      <td>2013-03-02 00:00:00</td>\n",
       "    </tr>\n",
       "    <tr>\n",
       "      <th>25</th>\n",
       "      <td>22.0</td>\n",
       "      <td>24.0</td>\n",
       "      <td>24.0</td>\n",
       "      <td>44.0</td>\n",
       "      <td>500.0</td>\n",
       "      <td>44.0</td>\n",
       "      <td>-0.4</td>\n",
       "      <td>1031.0</td>\n",
       "      <td>-17.6</td>\n",
       "      <td>0.0</td>\n",
       "      <td>...</td>\n",
       "      <td>9.0</td>\n",
       "      <td>33.0</td>\n",
       "      <td>400.0</td>\n",
       "      <td>40.0</td>\n",
       "      <td>-0.3</td>\n",
       "      <td>1030.2</td>\n",
       "      <td>-17.5</td>\n",
       "      <td>0.0</td>\n",
       "      <td>1.0</td>\n",
       "      <td>2013-03-02 01:00:00</td>\n",
       "    </tr>\n",
       "    <tr>\n",
       "      <th>32</th>\n",
       "      <td>14.0</td>\n",
       "      <td>17.0</td>\n",
       "      <td>21.0</td>\n",
       "      <td>36.0</td>\n",
       "      <td>400.0</td>\n",
       "      <td>50.0</td>\n",
       "      <td>-1.0</td>\n",
       "      <td>1031.3</td>\n",
       "      <td>-17.3</td>\n",
       "      <td>0.0</td>\n",
       "      <td>...</td>\n",
       "      <td>17.0</td>\n",
       "      <td>53.0</td>\n",
       "      <td>500.0</td>\n",
       "      <td>17.0</td>\n",
       "      <td>0.0</td>\n",
       "      <td>1028.8</td>\n",
       "      <td>-16.8</td>\n",
       "      <td>0.0</td>\n",
       "      <td>1.3</td>\n",
       "      <td>2013-03-02 08:00:00</td>\n",
       "    </tr>\n",
       "    <tr>\n",
       "      <th>33</th>\n",
       "      <td>3.0</td>\n",
       "      <td>7.0</td>\n",
       "      <td>21.0</td>\n",
       "      <td>49.0</td>\n",
       "      <td>500.0</td>\n",
       "      <td>43.0</td>\n",
       "      <td>-0.4</td>\n",
       "      <td>1029.6</td>\n",
       "      <td>-17.6</td>\n",
       "      <td>0.0</td>\n",
       "      <td>...</td>\n",
       "      <td>17.0</td>\n",
       "      <td>50.0</td>\n",
       "      <td>500.0</td>\n",
       "      <td>23.0</td>\n",
       "      <td>1.1</td>\n",
       "      <td>1028.9</td>\n",
       "      <td>-16.8</td>\n",
       "      <td>0.0</td>\n",
       "      <td>1.0</td>\n",
       "      <td>2013-03-02 09:00:00</td>\n",
       "    </tr>\n",
       "    <tr>\n",
       "      <th>34</th>\n",
       "      <td>10.0</td>\n",
       "      <td>14.0</td>\n",
       "      <td>47.0</td>\n",
       "      <td>62.0</td>\n",
       "      <td>700.0</td>\n",
       "      <td>29.0</td>\n",
       "      <td>0.6</td>\n",
       "      <td>1029.7</td>\n",
       "      <td>-16.7</td>\n",
       "      <td>0.0</td>\n",
       "      <td>...</td>\n",
       "      <td>22.0</td>\n",
       "      <td>52.0</td>\n",
       "      <td>600.0</td>\n",
       "      <td>20.0</td>\n",
       "      <td>1.9</td>\n",
       "      <td>1028.4</td>\n",
       "      <td>-17.1</td>\n",
       "      <td>0.0</td>\n",
       "      <td>2.0</td>\n",
       "      <td>2013-03-02 10:00:00</td>\n",
       "    </tr>\n",
       "  </tbody>\n",
       "</table>\n",
       "<p>5 rows × 265 columns</p>\n",
       "</div>"
      ],
      "text/plain": [
       "    PM2.5(t)  PM10(t)  SO2(t)  NO2(t)  CO(t)  O3(t)  TEMP(t)  PRES(t)  \\\n",
       "24      24.0     24.0    26.0    54.0  600.0   36.0     -0.2   1030.5   \n",
       "25      22.0     24.0    24.0    44.0  500.0   44.0     -0.4   1031.0   \n",
       "32      14.0     17.0    21.0    36.0  400.0   50.0     -1.0   1031.3   \n",
       "33       3.0      7.0    21.0    49.0  500.0   43.0     -0.4   1029.6   \n",
       "34      10.0     14.0    47.0    62.0  700.0   29.0      0.6   1029.7   \n",
       "\n",
       "    DEWP(t)  RAIN(t)  ...  SO2.11(t+1)  NO2.11(t+1)  CO.11(t+1)  O3.11(t+1)  \\\n",
       "24    -17.4      0.0  ...         11.0         35.0       400.0        39.0   \n",
       "25    -17.6      0.0  ...          9.0         33.0       400.0        40.0   \n",
       "32    -17.3      0.0  ...         17.0         53.0       500.0        17.0   \n",
       "33    -17.6      0.0  ...         17.0         50.0       500.0        23.0   \n",
       "34    -16.7      0.0  ...         22.0         52.0       600.0        20.0   \n",
       "\n",
       "    TEMP.11(t+1)  PRES.11(t+1)  DEWP.11(t+1)  RAIN.11(t+1)  WSPM.11(t+1)  \\\n",
       "24           0.5        1030.2         -18.3           0.0           1.4   \n",
       "25          -0.3        1030.2         -17.5           0.0           1.0   \n",
       "32           0.0        1028.8         -16.8           0.0           1.3   \n",
       "33           1.1        1028.9         -16.8           0.0           1.0   \n",
       "34           1.9        1028.4         -17.1           0.0           2.0   \n",
       "\n",
       "                  date  \n",
       "24 2013-03-02 00:00:00  \n",
       "25 2013-03-02 01:00:00  \n",
       "32 2013-03-02 08:00:00  \n",
       "33 2013-03-02 09:00:00  \n",
       "34 2013-03-02 10:00:00  \n",
       "\n",
       "[5 rows x 265 columns]"
      ]
     },
     "execution_count": 4,
     "metadata": {},
     "output_type": "execute_result"
    }
   ],
   "source": [
    "time_step_ahead = 1\n",
    "\n",
    "df = pd.read_csv('/home/hugo/projetos-doutorado/mimo_emb_fts/data/air/air_quality_beijing.csv', sep=',')\n",
    "# df.head(5)\n",
    "# print(df.columns)\n",
    "df = df.drop(labels=['No','wd','station'], axis=1)\n",
    "df = df.drop(labels=['No.1','day.1','year.1','month.1','hour.1','wd.1','station.1'], axis=1)\n",
    "df = df.drop(labels=['No.2','day.2','year.2','month.2','hour.2','wd.2','station.2'], axis=1)\n",
    "df = df.drop(labels=['No.3','day.3','year.3','month.3','hour.3','wd.3','station.3'], axis=1)\n",
    "df = df.drop(labels=['No.4','day.4','year.4','month.4','hour.4','wd.4','station.4'], axis=1)\n",
    "df = df.drop(labels=['No.5','day.5','year.5','month.5','hour.5','wd.5','station.5'], axis=1)\n",
    "df = df.drop(labels=['No.6','day.6','year.6','month.6','hour.6','wd.6','station.6'], axis=1)\n",
    "df = df.drop(labels=['No.7','day.7','year.7','month.7','hour.7','wd.7','station.7'], axis=1)\n",
    "df = df.drop(labels=['No.8','day.8','year.8','month.8','hour.8','wd.8','station.8'], axis=1)\n",
    "df = df.drop(labels=['No.9','day.9','year.9','month.9','hour.9','wd.9','station.9'], axis=1)\n",
    "df = df.drop(labels=['No.10','day.10','year.10','month.10','hour.10','wd.10','station.10'], axis=1)\n",
    "df = df.drop(labels=['No.11','day.11','year.11','month.11','hour.11','wd.11','station.11'], axis=1)\n",
    "\n",
    "time = pd.to_datetime(df[['year', 'month', 'day', 'hour']])\n",
    "df = data_set_util.clean_dataset(df.loc[:,'PM2.5':'WSPM.11'])\n",
    "\n",
    "variables = df.loc[:,'PM2.5':'WSPM.11'].columns \n",
    "\n",
    "data = data_set_util.series_to_supervised_mimo(df.loc[:,'PM2.5':'WSPM.11'], \n",
    "                                               lags, time_step_ahead)\n",
    "data['date'] = pd.to_datetime(time)\n",
    "data.head(5)"
   ]
  },
  {
   "cell_type": "markdown",
   "id": "soviet-bedroom",
   "metadata": {},
   "source": [
    "## MIMO One step ahead method "
   ]
  },
  {
   "cell_type": "code",
   "execution_count": 5,
   "id": "negative-korea",
   "metadata": {},
   "outputs": [],
   "source": [
    "first_col_test = 'PM2.5(t)' \n",
    "last_col_test = 'WSPM.11(t)' \n",
    "last_col_test = 'date'\n",
    "first_col_test_val = 'PM2.5(t+1)' \n",
    "last_col_test_val = 'WSPM.11(t+1)' \n",
    "time_steps =  time_step_ahead\n",
    "vars_vector = data.loc[:,'PM2.5(t+1)':'WSPM.11(t+1)'].columns\n",
    "vars_vector_test = data.loc[:,'PM2.5(t+1)':'WSPM.11(t+1)'].columns"
   ]
  },
  {
   "cell_type": "code",
   "execution_count": 6,
   "id": "behind-mining",
   "metadata": {},
   "outputs": [
    {
     "name": "stdout",
     "output_type": "stream",
     "text": [
      "Number of processors:  8\n",
      "Number of jobs:  20\n"
     ]
    }
   ],
   "source": [
    "efts_multi_step = ParallelMimoEFTS(n_components = n_components, endogen_variable = endogen_variable, \n",
    "                                    time_variable = time_variable, num_fuzzy_sets = num_fuzzy_sets, \n",
    "                                    partitioner = partitioner, order = order, steps_ahead = time_step_ahead, \n",
    "                                    gamma_kpca = gamma_kpca, seasionality_vars = seasionality_vars,\n",
    "                                    vars_vector = vars_vector,n_jobs = n_jobs,vars_vector_test = vars_vector_test)"
   ]
  },
  {
   "cell_type": "markdown",
   "id": "declared-world",
   "metadata": {},
   "source": [
    "## Sliding window cross validation"
   ]
  },
  {
   "cell_type": "markdown",
   "id": "suspected-break",
   "metadata": {},
   "source": [
    "### Embedding Transformation = PCA"
   ]
  },
  {
   "cell_type": "code",
   "execution_count": 7,
   "id": "hungarian-patio",
   "metadata": {},
   "outputs": [],
   "source": [
    "transformation = 'PCA' "
   ]
  },
  {
   "cell_type": "code",
   "execution_count": 8,
   "id": "introductory-nutrition",
   "metadata": {},
   "outputs": [
    {
     "ename": "NameError",
     "evalue": "name 'target_variable' is not defined",
     "output_type": "error",
     "traceback": [
      "\u001b[0;31m---------------------------------------------------------------------------\u001b[0m",
      "\u001b[0;31mNameError\u001b[0m                                 Traceback (most recent call last)",
      "\u001b[0;32m<ipython-input-8-9768f342c2a6>\u001b[0m in \u001b[0;36m<module>\u001b[0;34m\u001b[0m\n\u001b[1;32m      3\u001b[0m                                                         \u001b[0mfirst_col_test\u001b[0m \u001b[0;34m=\u001b[0m \u001b[0mfirst_col_test\u001b[0m\u001b[0;34m,\u001b[0m \u001b[0mlast_col_test\u001b[0m \u001b[0;34m=\u001b[0m \u001b[0mlast_col_test\u001b[0m\u001b[0;34m,\u001b[0m\u001b[0;34m\u001b[0m\u001b[0;34m\u001b[0m\u001b[0m\n\u001b[1;32m      4\u001b[0m                                                         \u001b[0mfirst_col_test_val\u001b[0m \u001b[0;34m=\u001b[0m \u001b[0mfirst_col_test_val\u001b[0m\u001b[0;34m,\u001b[0m \u001b[0mlast_col_test_val\u001b[0m \u001b[0;34m=\u001b[0m \u001b[0mlast_col_test_val\u001b[0m\u001b[0;34m,\u001b[0m\u001b[0;34m\u001b[0m\u001b[0;34m\u001b[0m\u001b[0m\n\u001b[0;32m----> 5\u001b[0;31m                                                         \u001b[0mtime_steps\u001b[0m \u001b[0;34m=\u001b[0m \u001b[0mtime_steps\u001b[0m\u001b[0;34m,\u001b[0m \u001b[0mtarget_variable\u001b[0m \u001b[0;34m=\u001b[0m \u001b[0mtarget_variable\u001b[0m\u001b[0;34m,\u001b[0m\u001b[0;34m\u001b[0m\u001b[0;34m\u001b[0m\u001b[0m\n\u001b[0m\u001b[1;32m      6\u001b[0m                                                         plot_graph = plot_graph, vars_vector = vars_vector)\n",
      "\u001b[0;31mNameError\u001b[0m: name 'target_variable' is not defined"
     ]
    }
   ],
   "source": [
    "final_metrics_measures_pca, metrics_measures_pca = statistics_util.sliding_windows_mimo_2(data = data, n_windows = n_windows, train_size= train_size, \n",
    "                                                        efts_model = efts_multi_step, transformation = transformation, \n",
    "                                                        first_col_test = first_col_test, last_col_test = last_col_test,\n",
    "                                                        first_col_test_val = first_col_test_val, last_col_test_val = last_col_test_val,\n",
    "                                                        time_steps = time_steps, target_variable = target_variable, \n",
    "                                                        plot_graph = plot_graph, vars_vector = vars_vector)"
   ]
  },
  {
   "cell_type": "code",
   "execution_count": null,
   "id": "affiliated-brazil",
   "metadata": {},
   "outputs": [],
   "source": [
    "pd.set_option('display.max_rows', None)\n",
    "metrics_measures_pca.head(20)"
   ]
  },
  {
   "cell_type": "code",
   "execution_count": null,
   "id": "chemical-samoa",
   "metadata": {},
   "outputs": [],
   "source": [
    "final_metrics_measures_pca"
   ]
  },
  {
   "cell_type": "code",
   "execution_count": null,
   "id": "aggregate-destination",
   "metadata": {},
   "outputs": [],
   "source": [
    "metrics_measures_pca.to_csv (r'aec_metrics_measures_pca_parallel.csv', index = False, header=True)\n",
    "final_metrics_measures_pca.to_csv (r'aec_final_metrics_measures_pca_parallel.csv', index = False, header=True)"
   ]
  },
  {
   "cell_type": "markdown",
   "id": "descending-export",
   "metadata": {},
   "source": [
    "### Embedding Transformation = KPCA"
   ]
  },
  {
   "cell_type": "code",
   "execution_count": null,
   "id": "proved-aggregate",
   "metadata": {},
   "outputs": [],
   "source": [
    "transformation = 'KPCA' "
   ]
  },
  {
   "cell_type": "code",
   "execution_count": null,
   "id": "written-fashion",
   "metadata": {},
   "outputs": [],
   "source": [
    "final_metrics_measures_kpca, metrics_measures_kpca = statistics_util.sliding_windows_mimo_2(data = data, n_windows = n_windows, train_size= train_size, \n",
    "                                                        efts_model = efts_multi_step, transformation = transformation, \n",
    "                                                        first_col_test = first_col_test, last_col_test = last_col_test,\n",
    "                                                        first_col_test_val = first_col_test_val, last_col_test_val = last_col_test,\n",
    "                                                        time_steps = time_steps, target_variable = target_variable, \n",
    "                                                        plot_graph = plot_graph, vars_vector = vars_vector)"
   ]
  },
  {
   "cell_type": "code",
   "execution_count": null,
   "id": "talented-mailing",
   "metadata": {
    "scrolled": true
   },
   "outputs": [],
   "source": [
    "pd.set_option('display.max_rows', None)\n",
    "metrics_measures_kpca.head(20)"
   ]
  },
  {
   "cell_type": "code",
   "execution_count": null,
   "id": "stylish-graduation",
   "metadata": {},
   "outputs": [],
   "source": [
    "final_metrics_measures_kpca"
   ]
  },
  {
   "cell_type": "code",
   "execution_count": null,
   "id": "bored-radio",
   "metadata": {},
   "outputs": [],
   "source": [
    "metrics_measures_kpca.to_csv (r'aec_metrics_measures_kpca_parallel.csv', index = False, header=True)\n",
    "final_metrics_measures_kpca.to_csv (r'aec_final_metrics_measures_kpca_parallel.csv', index = False, header=True)"
   ]
  },
  {
   "cell_type": "markdown",
   "id": "collected-ordinance",
   "metadata": {},
   "source": [
    "## =================================="
   ]
  },
  {
   "cell_type": "markdown",
   "id": "further-group",
   "metadata": {},
   "source": [
    "## =================================="
   ]
  },
  {
   "cell_type": "markdown",
   "id": "vocational-rogers",
   "metadata": {},
   "source": [
    "## =================================="
   ]
  },
  {
   "cell_type": "markdown",
   "id": "organized-peace",
   "metadata": {},
   "source": [
    "## =================================="
   ]
  }
 ],
 "metadata": {
  "kernelspec": {
   "display_name": "Python 3",
   "language": "python",
   "name": "python3"
  },
  "language_info": {
   "codemirror_mode": {
    "name": "ipython",
    "version": 3
   },
   "file_extension": ".py",
   "mimetype": "text/x-python",
   "name": "python",
   "nbconvert_exporter": "python",
   "pygments_lexer": "ipython3",
   "version": "3.8.5"
  }
 },
 "nbformat": 4,
 "nbformat_minor": 5
}
